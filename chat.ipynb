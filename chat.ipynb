{
 "cells": [
  {
   "cell_type": "code",
   "execution_count": 2,
   "metadata": {},
   "outputs": [
    {
     "name": "stderr",
     "output_type": "stream",
     "text": [
      "[nltk_data] Downloading package punkt to /Users/tejas/nltk_data...\n",
      "[nltk_data]   Package punkt is already up-to-date!\n"
     ]
    }
   ],
   "source": [
    "import random\n",
    "import json\n",
    "import torch\n",
    "from chatbot import NeuralNet\n",
    "from chatbot import bag_of_words, tokenize\n",
    "device = torch.device('mps' if torch.backends.mps.is_available() else 'cpu')"
   ]
  },
  {
   "cell_type": "code",
   "execution_count": null,
   "metadata": {},
   "outputs": [],
   "source": [
    "with open('intents.json', 'r') as f:\n",
    "\tintents = json.load(f)\n",
    "FILE = \"data.pth\"\n",
    "data = torch.load(FILE)\n",
    "input_size = data[\"input_size\"]\n",
    "hidden_size = data[\"hidden_size\"]\n",
    "output_size = data[\"output_size\"]\n",
    "all_words = data[\"all_words\"]\n",
    "tags = data[\"tags\"]\n",
    "model_state = data[\"model_state\"]\n",
    "model = NeuralNet(input_size, hidden_size, output_size).to(device)\n",
    "model.load_state_dict(model_state)\n",
    "model.eval()\n",
    "bot_name = \"cerno\"\n",
    "print(\"Let's chat! type 'q' to exit\")\n",
    "while True:\n",
    "\t#\n",
    "\tsetence = input(\"You: \")\n",
    "\tif setence == \"q\":\n",
    "\t\tbreak\n",
    "\ttokenized = tokenize(setence)\n",
    "\tX = bag_of_words(tokenized, all_words)\n",
    "\tX = X.reshape(1, X.shape[0])\n",
    "\tX = torch.from_numpy(X).to(device)\n",
    "\toutput = model(X)\n",
    "\t_, predicted = torch.max(output, dim=1)\n",
    "\ttag = tags[predicted.item()]\n",
    "\tprobs = torch.softmax(output, dim=1)\n",
    "\tprob = probs[0][predicted.item()]\n",
    "\tif prob.item() > 0.75:\n",
    "\t\tfor intent in intents[\"intents\"]:\n",
    "\t\t\tif tag == intent[\"tag\"]:\n",
    "\t\t\t\tprint(f\"{bot_name}: {random.choice(intent['responses'])}\")\n",
    "\telse:\n",
    "\t\tprint(f\"{bot_name}: I do not understand...\")\n"
   ]
  }
 ],
 "metadata": {
  "kernelspec": {
   "display_name": "base",
   "language": "python",
   "name": "python3"
  },
  "language_info": {
   "codemirror_mode": {
    "name": "ipython",
    "version": 3
   },
   "file_extension": ".py",
   "mimetype": "text/x-python",
   "name": "python",
   "nbconvert_exporter": "python",
   "pygments_lexer": "ipython3",
   "version": "3.10.12"
  }
 },
 "nbformat": 4,
 "nbformat_minor": 2
}
