{
 "cells": [
  {
   "cell_type": "code",
   "execution_count": 15,
   "metadata": {},
   "outputs": [],
   "source": [
    "import json\n",
    "with open('stupidstuff.json') as f:\n",
    "\tdata = json.load(f)\n",
    "jokes = []\n",
    "for element in data[\"jokes\"]:\n",
    "\tjokes.append(element[\"body\"])\n",
    "# write the jokes to a file as follows : \n",
    "# \"responses\" : [\"joke1\", \"joke2\", ...]\n",
    "# do it\n",
    "# Path: joke.json\n",
    "json.dump({\"responses\": jokes}, open(\"joke.json\", \"w\"))"
   ]
  },
  {
   "cell_type": "code",
   "execution_count": null,
   "metadata": {},
   "outputs": [],
   "source": []
  }
 ],
 "metadata": {
  "kernelspec": {
   "display_name": "base",
   "language": "python",
   "name": "python3"
  },
  "language_info": {
   "codemirror_mode": {
    "name": "ipython",
    "version": 3
   },
   "file_extension": ".py",
   "mimetype": "text/x-python",
   "name": "python",
   "nbconvert_exporter": "python",
   "pygments_lexer": "ipython3",
   "version": "3.10.12"
  }
 },
 "nbformat": 4,
 "nbformat_minor": 2
}
