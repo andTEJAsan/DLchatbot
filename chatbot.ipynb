{
 "cells": [
  {
   "cell_type": "code",
   "execution_count": 2,
   "metadata": {},
   "outputs": [],
   "source": [
    "import numpy as np\n",
    "import nltk\n",
    "from nltk.stem.porter import PorterStemmer\n",
    "stemmer = nltk.stem.PorterStemmer()"
   ]
  },
  {
   "cell_type": "code",
   "execution_count": 3,
   "metadata": {},
   "outputs": [
    {
     "name": "stderr",
     "output_type": "stream",
     "text": [
      "[nltk_data] Downloading package punkt to /Users/tejas/nltk_data...\n",
      "[nltk_data]   Unzipping tokenizers/punkt.zip.\n"
     ]
    },
    {
     "data": {
      "text/plain": [
       "True"
      ]
     },
     "execution_count": 3,
     "metadata": {},
     "output_type": "execute_result"
    }
   ],
   "source": [
    "nltk.download('punkt')"
   ]
  },
  {
   "cell_type": "code",
   "execution_count": 4,
   "metadata": {},
   "outputs": [],
   "source": [
    "stemmer = PorterStemmer()\n",
    "\n",
    "def tokenize(sentence):\n",
    "\t# tokenizes the sentence\n",
    "\treturn nltk.word_tokenize(sentence)\n",
    "def stem(word):\n",
    "\t# converts to the root word\n",
    "\treturn stemmer.stem(word.lower())\n",
    "def bag_of_words(tokenized_sentence, words):\n",
    "\tstemmed_sentence = [stem(w) for w in tokenized_sentence]\n",
    "\tbag_of_words = np.zeros(len(words), dtype=np.float32)\n",
    "\tfor idx, w in enumerate(words):\n",
    "\t\tif w in stemmed_sentence:\n",
    "\t\t\tbag_of_words[idx] = 1.0\n",
    "\treturn bag_of_words"
   ]
  },
  {
   "cell_type": "code",
   "execution_count": 5,
   "metadata": {},
   "outputs": [],
   "source": [
    "import torch\n",
    "import torch.nn as nn"
   ]
  },
  {
   "cell_type": "code",
   "execution_count": 6,
   "metadata": {},
   "outputs": [],
   "source": [
    "class NeuralNet(nn.Module):\n",
    "\tdef __init__(self, input_size,hidden_size, num_classes):\n",
    "\t\tsuper(NeuralNet, self).__init__()\n",
    "\t\tself.l1 = nn.Linear(input_size, hidden_size)\n",
    "\t\tself.l2 = nn.Linear(hidden_size, hidden_size)\n",
    "\t\tself.l3 = nn.Linear(hidden_size, num_classes)\n",
    "\t\tself.relu = nn.ReLU()\n",
    "\tdef forward(self, x):\n",
    "\t\tout = self.l1(x)\n",
    "\t\tout = self.relu(out)\n",
    "\t\tout = self.l2(out)\n",
    "\t\tout = self.relu(out)\n",
    "\t\tout = self.l3(out)\n",
    "\t\t# no activation and no softmax at the end\n",
    "\t\treturn out"
   ]
  },
  {
   "cell_type": "code",
   "execution_count": null,
   "metadata": {},
   "outputs": [],
   "source": []
  }
 ],
 "metadata": {
  "kernelspec": {
   "display_name": "base",
   "language": "python",
   "name": "python3"
  },
  "language_info": {
   "codemirror_mode": {
    "name": "ipython",
    "version": 3
   },
   "file_extension": ".py",
   "mimetype": "text/x-python",
   "name": "python",
   "nbconvert_exporter": "python",
   "pygments_lexer": "ipython3",
   "version": "3.10.12"
  }
 },
 "nbformat": 4,
 "nbformat_minor": 2
}
